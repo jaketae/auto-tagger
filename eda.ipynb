{
 "cells": [
  {
   "cell_type": "code",
   "execution_count": 1,
   "metadata": {},
   "outputs": [],
   "source": [
    "import pandas as pd"
   ]
  },
  {
   "cell_type": "code",
   "execution_count": 2,
   "metadata": {},
   "outputs": [],
   "source": [
    "df = pd.read_csv(\"data/train.csv\", index_col=0)"
   ]
  },
  {
   "cell_type": "code",
   "execution_count": 3,
   "metadata": {},
   "outputs": [
    {
     "output_type": "execute_result",
     "data": {
      "text/plain": [
       "                                                                             body  \\\n",
       "title                                                                               \n",
       "Stirling Approximation          It’s about time that we go back to the old the...   \n",
       "Naive Bayes Model From Scratch  Welcome to part three of the “from scratch” se...   \n",
       "Likelihood and Probability      “I think that’s very unlikely.” “No, you’re pr...   \n",
       "How lucky was I on my shift?    At the Yongsan Provost Marshall Office, I rece...   \n",
       "Gaussian Mixture Models         We’ve discussed Gaussians a few times on this ...   \n",
       "\n",
       "                                deep_learning  linear_algebra  \\\n",
       "title                                                           \n",
       "Stirling Approximation                      0               0   \n",
       "Naive Bayes Model From Scratch              0               0   \n",
       "Likelihood and Probability                  0               0   \n",
       "How lucky was I on my shift?                0               0   \n",
       "Gaussian Mixture Models                     0               0   \n",
       "\n",
       "                                machine_learning  from_scratch  statistics  \\\n",
       "title                                                                        \n",
       "Stirling Approximation                         0             0           1   \n",
       "Naive Bayes Model From Scratch                 1             1           0   \n",
       "Likelihood and Probability                     0             0           1   \n",
       "How lucky was I on my shift?                   0             0           1   \n",
       "Gaussian Mixture Models                        1             0           1   \n",
       "\n",
       "                                pytorch  analysis  probability_distribution  \n",
       "title                                                                        \n",
       "Stirling Approximation                0         1                         1  \n",
       "Naive Bayes Model From Scratch        0         0                         0  \n",
       "Likelihood and Probability            0         0                         0  \n",
       "How lucky was I on my shift?          0         0                         1  \n",
       "Gaussian Mixture Models               0         0                         0  "
      ],
      "text/html": "<div>\n<style scoped>\n    .dataframe tbody tr th:only-of-type {\n        vertical-align: middle;\n    }\n\n    .dataframe tbody tr th {\n        vertical-align: top;\n    }\n\n    .dataframe thead th {\n        text-align: right;\n    }\n</style>\n<table border=\"1\" class=\"dataframe\">\n  <thead>\n    <tr style=\"text-align: right;\">\n      <th></th>\n      <th>body</th>\n      <th>deep_learning</th>\n      <th>linear_algebra</th>\n      <th>machine_learning</th>\n      <th>from_scratch</th>\n      <th>statistics</th>\n      <th>pytorch</th>\n      <th>analysis</th>\n      <th>probability_distribution</th>\n    </tr>\n    <tr>\n      <th>title</th>\n      <th></th>\n      <th></th>\n      <th></th>\n      <th></th>\n      <th></th>\n      <th></th>\n      <th></th>\n      <th></th>\n      <th></th>\n    </tr>\n  </thead>\n  <tbody>\n    <tr>\n      <th>Stirling Approximation</th>\n      <td>It’s about time that we go back to the old the...</td>\n      <td>0</td>\n      <td>0</td>\n      <td>0</td>\n      <td>0</td>\n      <td>1</td>\n      <td>0</td>\n      <td>1</td>\n      <td>1</td>\n    </tr>\n    <tr>\n      <th>Naive Bayes Model From Scratch</th>\n      <td>Welcome to part three of the “from scratch” se...</td>\n      <td>0</td>\n      <td>0</td>\n      <td>1</td>\n      <td>1</td>\n      <td>0</td>\n      <td>0</td>\n      <td>0</td>\n      <td>0</td>\n    </tr>\n    <tr>\n      <th>Likelihood and Probability</th>\n      <td>“I think that’s very unlikely.” “No, you’re pr...</td>\n      <td>0</td>\n      <td>0</td>\n      <td>0</td>\n      <td>0</td>\n      <td>1</td>\n      <td>0</td>\n      <td>0</td>\n      <td>0</td>\n    </tr>\n    <tr>\n      <th>How lucky was I on my shift?</th>\n      <td>At the Yongsan Provost Marshall Office, I rece...</td>\n      <td>0</td>\n      <td>0</td>\n      <td>0</td>\n      <td>0</td>\n      <td>1</td>\n      <td>0</td>\n      <td>0</td>\n      <td>1</td>\n    </tr>\n    <tr>\n      <th>Gaussian Mixture Models</th>\n      <td>We’ve discussed Gaussians a few times on this ...</td>\n      <td>0</td>\n      <td>0</td>\n      <td>1</td>\n      <td>0</td>\n      <td>1</td>\n      <td>0</td>\n      <td>0</td>\n      <td>0</td>\n    </tr>\n  </tbody>\n</table>\n</div>"
     },
     "metadata": {},
     "execution_count": 3
    }
   ],
   "source": [
    "df.head()"
   ]
  },
  {
   "cell_type": "code",
   "execution_count": 4,
   "metadata": {},
   "outputs": [
    {
     "output_type": "execute_result",
     "data": {
      "text/plain": [
       "(47, 9)"
      ]
     },
     "metadata": {},
     "execution_count": 4
    }
   ],
   "source": [
    "df.shape"
   ]
  },
  {
   "cell_type": "code",
   "execution_count": 5,
   "metadata": {},
   "outputs": [
    {
     "output_type": "execute_result",
     "data": {
      "text/plain": [
       "0    37\n",
       "1    10\n",
       "Name: pytorch, dtype: int64"
      ]
     },
     "metadata": {},
     "execution_count": 5
    }
   ],
   "source": [
    "df[\"pytorch\"].value_counts()"
   ]
  },
  {
   "cell_type": "code",
   "execution_count": 6,
   "metadata": {},
   "outputs": [
    {
     "output_type": "execute_result",
     "data": {
      "text/plain": [
       "Index(['body', 'deep_learning', 'linear_algebra', 'machine_learning',\n",
       "       'from_scratch', 'statistics', 'pytorch', 'analysis',\n",
       "       'probability_distribution'],\n",
       "      dtype='object')"
      ]
     },
     "metadata": {},
     "execution_count": 6
    }
   ],
   "source": [
    "df.columns"
   ]
  },
  {
   "cell_type": "code",
   "execution_count": 7,
   "metadata": {},
   "outputs": [
    {
     "output_type": "execute_result",
     "data": {
      "text/plain": [
       "linear_algebra               5\n",
       "machine_learning             7\n",
       "analysis                     7\n",
       "probability_distribution     7\n",
       "from_scratch                 9\n",
       "pytorch                     10\n",
       "statistics                  15\n",
       "deep_learning               18\n",
       "dtype: int64"
      ]
     },
     "metadata": {},
     "execution_count": 7
    }
   ],
   "source": [
    "counts = df[df.columns[1:]].apply(sum).sort_values()\n",
    "counts"
   ]
  },
  {
   "cell_type": "code",
   "execution_count": 8,
   "metadata": {},
   "outputs": [
    {
     "output_type": "execute_result",
     "data": {
      "text/plain": [
       "8"
      ]
     },
     "metadata": {},
     "execution_count": 8
    }
   ],
   "source": [
    "len(counts)"
   ]
  },
  {
   "cell_type": "code",
   "execution_count": 20,
   "metadata": {},
   "outputs": [
    {
     "output_type": "execute_result",
     "data": {
      "text/plain": [
       "array([2.        , 1.42857143, 1.42857143, 1.42857143, 1.11111111,\n",
       "       1.        , 0.66666667, 0.55555556])"
      ]
     },
     "metadata": {},
     "execution_count": 20
    }
   ],
   "source": [
    "10 / counts.values"
   ]
  },
  {
   "cell_type": "code",
   "execution_count": 9,
   "metadata": {},
   "outputs": [],
   "source": [
    "import matplotlib.pyplot as plt\n",
    "\n",
    "%matplotlib inline\n",
    "%config InlineBackend.figure_format='retina'"
   ]
  },
  {
   "cell_type": "code",
   "execution_count": 10,
   "metadata": {},
   "outputs": [
    {
     "output_type": "display_data",
     "data": {
      "text/plain": "<Figure size 576x432 with 1 Axes>",
      "image/png": "[encoded data removed]"
     },
     "metadata": {
      "image/png": {
       "width": 583,
       "height": 357
      },
      "needs_background": "light"
     }
    }
   ],
   "source": [
    "fig, ax = plt.subplots(figsize=(8, 6))\n",
    "ax.barh(counts.index, counts.values)\n",
    "plt.show()"
   ]
  },
  {
   "cell_type": "code",
   "execution_count": 11,
   "metadata": {},
   "outputs": [
    {
     "output_type": "execute_result",
     "data": {
      "text/plain": [
       "title\n",
       "Understanding PageRank                                 215\n",
       "Understanding the  Leibniz Rule                        583\n",
       "VGG PyTorch Implementation                             587\n",
       "Stirling Approximation                                 602\n",
       "GAN in PyTorch                                         613\n",
       "InceptionNet in PyTorch                                679\n",
       "Better seq2seq                                         722\n",
       "Maximum A Posteriori Estimation                        870\n",
       "First Neural Network with Keras                        973\n",
       "Convolutional Neural Network with Keras                982\n",
       "MLE and KL Divergence                                 1027\n",
       "Gamma and Zeta                                        1034\n",
       "So What are Autoencoders?                             1037\n",
       "My First GAN                                          1290\n",
       "PyTorch RNN from Scratch                              1405\n",
       "The Math Behind GANs                                  1422\n",
       "Moments in Statistics                                 1457\n",
       "The Magic of Euler’s Identity                         1458\n",
       "Introduction to seq2seq models                        1460\n",
       "Fast Gradient Sign Method                             1532\n",
       "Natural Gradient and Fisher                           1596\n",
       "Fisher Score and Information                          1642\n",
       "0.5!: Gamma Function, Distribution, and More          1668\n",
       "Riemann Zeta and Prime Numbers                        1701\n",
       "Likelihood and Probability                            1752\n",
       "PyTorch Tensor Basics                                 1800\n",
       "Complex Fibonacci                                     1818\n",
       "Gaussian Mixture Models                               1827\n",
       "k-Nearest Neighbors Algorithm from Scratch            1837\n",
       "Naive Bayes Model From Scratch                        1962\n",
       "The Gibbs Sampler                                     1968\n",
       "How lucky was I on my shift?                          2095\n",
       "PyTorch, From Data to Modeling                        2164\n",
       "Neural Style Transfer                                 2215\n",
       "Linear Regression, in Two Ways                        2265\n",
       "Markov Chain and Chutes and Ladders                   2368\n",
       "Traveling Salesman Problem with Genetic Algorithms    2465\n",
       "Dissecting the Gaussian Distribution                  2573\n",
       "Word2vec from Scratch                                 2618\n",
       "Newton-Raphson, Secant, and More                      2656\n",
       "Beta, Bayes, and Multi-armed Bandits                  2817\n",
       "Gaussian Process Regression                           2912\n",
       "Logistic Regression Model from Scratch                2934\n",
       "An Introduction to Markov Chain Monte Carlo           2968\n",
       "A Step Up with  Variational Autoencoders              3034\n",
       "A sneak peek at Bayesian Inference                    3705\n",
       "Building Neural Network From Scratch                  4184\n",
       "Name: body, dtype: int64"
      ]
     },
     "metadata": {},
     "execution_count": 11
    }
   ],
   "source": [
    "count_words = lambda x: len(x.split())\n",
    "\n",
    "word_count = df[\"body\"].apply(count_words).sort_values()\n",
    "word_count"
   ]
  },
  {
   "cell_type": "code",
   "execution_count": 12,
   "metadata": {},
   "outputs": [
    {
     "output_type": "execute_result",
     "data": {
      "text/plain": [
       "array([ 215,  583,  587,  602,  613,  679,  722,  870,  973,  982, 1027,\n",
       "       1034, 1037, 1290, 1405, 1422, 1457, 1458, 1460, 1532, 1596, 1642,\n",
       "       1668, 1701, 1752, 1800, 1818, 1827, 1837, 1962, 1968, 2095, 2164,\n",
       "       2215, 2265, 2368, 2465, 2573, 2618, 2656, 2817, 2912, 2934, 2968,\n",
       "       3034, 3705, 4184])"
      ]
     },
     "metadata": {},
     "execution_count": 12
    }
   ],
   "source": [
    "word_count.values"
   ]
  },
  {
   "cell_type": "code",
   "execution_count": 13,
   "metadata": {},
   "outputs": [
    {
     "output_type": "display_data",
     "data": {
      "text/plain": "<Figure size 576x432 with 1 Axes>",
      "image/png": "[encoded data removed]"
     },
     "metadata": {
      "image/png": {
       "width": 474,
       "height": 357
      },
      "needs_background": "light"
     }
    }
   ],
   "source": [
    "fig, ax = plt.subplots(figsize=(8, 6))\n",
    "ax.hist(word_count.values, bins=20)\n",
    "plt.show()"
   ]
  },
  {
   "cell_type": "code",
   "execution_count": 15,
   "metadata": {},
   "outputs": [
    {
     "output_type": "execute_result",
     "data": {
      "text/plain": [
       "'It’s about time that we go back to the old themes again. When I first started this blog, I briefly dabbled in real analysis via Euler, with a particular focus on factorials, interpolation, and the Beta function. I decided to go a bit retro and revisit these motifs in today’s post, by introducing Stirling’s approximation of the factorial. There are many variants of Stirling’s approximation, but here we introduce the general form as shown: Let’s begin the derivation by first recalling the Poisson distribution. The Poisson distribution is used to model the probability that a certain event occurs a specified number of times within a defined time interval given the rate at which these events occur. The formula looks as follows: One interesting fact about the Poisson distribution is that, when the parameter math variable is sufficiently large, the Poisson approximates the Gaussian distribution whose mean and variance are both math variable. This happens when the random variable math variable. We can easily simplify (2) since the power of the exponent is zero. Thus, we have By simply rearranging (3), we arrive at Stirling’s approximation of the factorial: This is cool, but we still haven’t really shown why a Poisson can be used to approximate a Gaussian—after all, this premise was the bulk of this demonstration. To see the intuition behind this approximation, it is constructive to consider what happens when we add independent Poisson random variables. Say we have math variable and math variable, both of which are independent Poisson random variables with mean math variable and math variable. Then, math variable will be a new Poisson random variable with mean math variable. If we extend this idea to apply to math variable independent random variables instead of just two, we can conclude that math variable collection of independent random variables from math variable to math variable sampled from a population of mean math variable will have mean math variable. And by the nature of the Poisson distribution, the same goes for variance (We will elaborate on this part more below). The Central Limit Theorem then tells us that the distribution of the sum of these random variables will approximate a normal distribution. This concludes a rough proof of the Stirling approximation. For those of you who are feeling rusty on the Poisson distribution as I was, here is a simple explanation on the Poisson—specifically, its mean and variance. By the virtue of the definition of the parameter, it should be fairly clear why math variable: math variable is a rate parameter that indicates how many events occur within a window of unit time. The expected calculation can easily be shown using Taylor expansion: Next, we prove that the variance of a Poisson random variable defined by parameter math variable is equal to math variable. Let math variable be a Poisson random variable. Then, Then, using the definition of variance, we know that From this, we are once again reminded of the defining property of the Poisson, which is that both the mean and variance of a Poisson random variable is defined by the parameter math variable. Let’s tie this back to our original discussion of the Central Limit Theorem. CLT states that, even if a distribution of a random variable is not normal, the distribution of the sums of these random variables will approximate a normal distribution. Using this handy property on the math variable independent and identically distributed Poisson random variables of mean and variance math variable, we can see how the sum of these random variables approximates a Gaussian distribution math variable. Hence the Stirling approximation! math expression'"
      ]
     },
     "metadata": {},
     "execution_count": 15
    }
   ],
   "source": [
    "df[\"body\"][0]"
   ]
  },
  {
   "cell_type": "code",
   "execution_count": null,
   "metadata": {},
   "outputs": [],
   "source": []
  }
 ],
 "metadata": {
  "kernelspec": {
   "display_name": "PyTorch",
   "language": "python",
   "name": "pytorch"
  },
  "language_info": {
   "codemirror_mode": {
    "name": "ipython",
    "version": 3
   },
   "file_extension": ".py",
   "mimetype": "text/x-python",
   "name": "python",
   "nbconvert_exporter": "python",
   "pygments_lexer": "ipython3",
   "version": "3.7.9-final"
  }
 },
 "nbformat": 4,
 "nbformat_minor": 4
}