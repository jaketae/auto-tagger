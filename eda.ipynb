{
 "cells": [
  {
   "cell_type": "code",
   "execution_count": 1,
   "metadata": {},
   "outputs": [],
   "source": [
    "import pandas as pd"
   ]
  },
  {
   "cell_type": "code",
   "execution_count": 48,
   "metadata": {},
   "outputs": [],
   "source": [
    "df = pd.read_csv(\"data.csv\", index_col=0)"
   ]
  },
  {
   "cell_type": "code",
   "execution_count": 49,
   "metadata": {},
   "outputs": [
    {
     "data": {
      "text/html": [
       "<div>\n",
       "<style scoped>\n",
       "    .dataframe tbody tr th:only-of-type {\n",
       "        vertical-align: middle;\n",
       "    }\n",
       "\n",
       "    .dataframe tbody tr th {\n",
       "        vertical-align: top;\n",
       "    }\n",
       "\n",
       "    .dataframe thead th {\n",
       "        text-align: right;\n",
       "    }\n",
       "</style>\n",
       "<table border=\"1\" class=\"dataframe\">\n",
       "  <thead>\n",
       "    <tr style=\"text-align: right;\">\n",
       "      <th></th>\n",
       "      <th>body</th>\n",
       "      <th>analysis</th>\n",
       "      <th>algorithms</th>\n",
       "      <th>jupyter</th>\n",
       "      <th>euler</th>\n",
       "      <th>probability_distribution</th>\n",
       "      <th>r</th>\n",
       "      <th>bayesian</th>\n",
       "      <th>update</th>\n",
       "      <th>linear_algebra</th>\n",
       "      <th>...</th>\n",
       "      <th>from_scratch</th>\n",
       "      <th>simulation</th>\n",
       "      <th>pytorch</th>\n",
       "      <th>nlp</th>\n",
       "      <th>statistics</th>\n",
       "      <th>monte_carlo</th>\n",
       "      <th>deep_learning</th>\n",
       "      <th>tensorflow</th>\n",
       "      <th>machine_learning</th>\n",
       "      <th>regression</th>\n",
       "    </tr>\n",
       "    <tr>\n",
       "      <th>title</th>\n",
       "      <th></th>\n",
       "      <th></th>\n",
       "      <th></th>\n",
       "      <th></th>\n",
       "      <th></th>\n",
       "      <th></th>\n",
       "      <th></th>\n",
       "      <th></th>\n",
       "      <th></th>\n",
       "      <th></th>\n",
       "      <th></th>\n",
       "      <th></th>\n",
       "      <th></th>\n",
       "      <th></th>\n",
       "      <th></th>\n",
       "      <th></th>\n",
       "      <th></th>\n",
       "      <th></th>\n",
       "      <th></th>\n",
       "      <th></th>\n",
       "      <th></th>\n",
       "    </tr>\n",
       "  </thead>\n",
       "  <tbody>\n",
       "    <tr>\n",
       "      <th>2020-05-27-natural-gradient</th>\n",
       "      <td>in a previous post, we took a look at fisher's...</td>\n",
       "      <td>0</td>\n",
       "      <td>0</td>\n",
       "      <td>0</td>\n",
       "      <td>0</td>\n",
       "      <td>0</td>\n",
       "      <td>0</td>\n",
       "      <td>0</td>\n",
       "      <td>0</td>\n",
       "      <td>0</td>\n",
       "      <td>...</td>\n",
       "      <td>0</td>\n",
       "      <td>0</td>\n",
       "      <td>0</td>\n",
       "      <td>0</td>\n",
       "      <td>1</td>\n",
       "      <td>0</td>\n",
       "      <td>0</td>\n",
       "      <td>0</td>\n",
       "      <td>1</td>\n",
       "      <td>0</td>\n",
       "    </tr>\n",
       "    <tr>\n",
       "      <th>2020-01-15-first-keras</th>\n",
       "      <td>lately, i have been on a spree after unlocking...</td>\n",
       "      <td>0</td>\n",
       "      <td>0</td>\n",
       "      <td>0</td>\n",
       "      <td>0</td>\n",
       "      <td>0</td>\n",
       "      <td>0</td>\n",
       "      <td>0</td>\n",
       "      <td>0</td>\n",
       "      <td>0</td>\n",
       "      <td>...</td>\n",
       "      <td>0</td>\n",
       "      <td>0</td>\n",
       "      <td>0</td>\n",
       "      <td>0</td>\n",
       "      <td>0</td>\n",
       "      <td>0</td>\n",
       "      <td>1</td>\n",
       "      <td>1</td>\n",
       "      <td>1</td>\n",
       "      <td>0</td>\n",
       "    </tr>\n",
       "    <tr>\n",
       "      <th>2020-02-18-autoencoder</th>\n",
       "      <td>in today's post, we will take yet another look...</td>\n",
       "      <td>0</td>\n",
       "      <td>0</td>\n",
       "      <td>0</td>\n",
       "      <td>0</td>\n",
       "      <td>0</td>\n",
       "      <td>0</td>\n",
       "      <td>0</td>\n",
       "      <td>0</td>\n",
       "      <td>0</td>\n",
       "      <td>...</td>\n",
       "      <td>0</td>\n",
       "      <td>0</td>\n",
       "      <td>0</td>\n",
       "      <td>0</td>\n",
       "      <td>0</td>\n",
       "      <td>0</td>\n",
       "      <td>1</td>\n",
       "      <td>1</td>\n",
       "      <td>0</td>\n",
       "      <td>0</td>\n",
       "    </tr>\n",
       "    <tr>\n",
       "      <th>2020-08-15-rerent-summer</th>\n",
       "      <td>for the past month and a half, i've been worki...</td>\n",
       "      <td>0</td>\n",
       "      <td>0</td>\n",
       "      <td>0</td>\n",
       "      <td>0</td>\n",
       "      <td>0</td>\n",
       "      <td>0</td>\n",
       "      <td>0</td>\n",
       "      <td>1</td>\n",
       "      <td>0</td>\n",
       "      <td>...</td>\n",
       "      <td>0</td>\n",
       "      <td>0</td>\n",
       "      <td>0</td>\n",
       "      <td>0</td>\n",
       "      <td>0</td>\n",
       "      <td>0</td>\n",
       "      <td>0</td>\n",
       "      <td>0</td>\n",
       "      <td>0</td>\n",
       "      <td>0</td>\n",
       "    </tr>\n",
       "    <tr>\n",
       "      <th>2019-11-22-gamma</th>\n",
       "      <td>in a , we looked at the poisson distribution a...</td>\n",
       "      <td>0</td>\n",
       "      <td>0</td>\n",
       "      <td>0</td>\n",
       "      <td>0</td>\n",
       "      <td>1</td>\n",
       "      <td>0</td>\n",
       "      <td>0</td>\n",
       "      <td>0</td>\n",
       "      <td>0</td>\n",
       "      <td>...</td>\n",
       "      <td>0</td>\n",
       "      <td>0</td>\n",
       "      <td>0</td>\n",
       "      <td>0</td>\n",
       "      <td>0</td>\n",
       "      <td>0</td>\n",
       "      <td>0</td>\n",
       "      <td>0</td>\n",
       "      <td>0</td>\n",
       "      <td>0</td>\n",
       "    </tr>\n",
       "  </tbody>\n",
       "</table>\n",
       "<p>5 rows × 21 columns</p>\n",
       "</div>"
      ],
      "text/plain": [
       "                                                                          body  \\\n",
       "title                                                                            \n",
       "2020-05-27-natural-gradient  in a previous post, we took a look at fisher's...   \n",
       "2020-01-15-first-keras       lately, i have been on a spree after unlocking...   \n",
       "2020-02-18-autoencoder       in today's post, we will take yet another look...   \n",
       "2020-08-15-rerent-summer     for the past month and a half, i've been worki...   \n",
       "2019-11-22-gamma             in a , we looked at the poisson distribution a...   \n",
       "\n",
       "                             analysis  algorithms  jupyter  euler  \\\n",
       "title                                                               \n",
       "2020-05-27-natural-gradient         0           0        0      0   \n",
       "2020-01-15-first-keras              0           0        0      0   \n",
       "2020-02-18-autoencoder              0           0        0      0   \n",
       "2020-08-15-rerent-summer            0           0        0      0   \n",
       "2019-11-22-gamma                    0           0        0      0   \n",
       "\n",
       "                             probability_distribution  r  bayesian  update  \\\n",
       "title                                                                        \n",
       "2020-05-27-natural-gradient                         0  0         0       0   \n",
       "2020-01-15-first-keras                              0  0         0       0   \n",
       "2020-02-18-autoencoder                              0  0         0       0   \n",
       "2020-08-15-rerent-summer                            0  0         0       1   \n",
       "2019-11-22-gamma                                    1  0         0       0   \n",
       "\n",
       "                             linear_algebra  ...  from_scratch  simulation  \\\n",
       "title                                        ...                             \n",
       "2020-05-27-natural-gradient               0  ...             0           0   \n",
       "2020-01-15-first-keras                    0  ...             0           0   \n",
       "2020-02-18-autoencoder                    0  ...             0           0   \n",
       "2020-08-15-rerent-summer                  0  ...             0           0   \n",
       "2019-11-22-gamma                          0  ...             0           0   \n",
       "\n",
       "                             pytorch  nlp  statistics  monte_carlo  \\\n",
       "title                                                                \n",
       "2020-05-27-natural-gradient        0    0           1            0   \n",
       "2020-01-15-first-keras             0    0           0            0   \n",
       "2020-02-18-autoencoder             0    0           0            0   \n",
       "2020-08-15-rerent-summer           0    0           0            0   \n",
       "2019-11-22-gamma                   0    0           0            0   \n",
       "\n",
       "                             deep_learning  tensorflow  machine_learning  \\\n",
       "title                                                                      \n",
       "2020-05-27-natural-gradient              0           0                 1   \n",
       "2020-01-15-first-keras                   1           1                 1   \n",
       "2020-02-18-autoencoder                   1           1                 0   \n",
       "2020-08-15-rerent-summer                 0           0                 0   \n",
       "2019-11-22-gamma                         0           0                 0   \n",
       "\n",
       "                             regression  \n",
       "title                                    \n",
       "2020-05-27-natural-gradient           0  \n",
       "2020-01-15-first-keras                0  \n",
       "2020-02-18-autoencoder                0  \n",
       "2020-08-15-rerent-summer              0  \n",
       "2019-11-22-gamma                      0  \n",
       "\n",
       "[5 rows x 21 columns]"
      ]
     },
     "execution_count": 49,
     "metadata": {},
     "output_type": "execute_result"
    }
   ],
   "source": [
    "df.head()"
   ]
  },
  {
   "cell_type": "code",
   "execution_count": 50,
   "metadata": {},
   "outputs": [
    {
     "data": {
      "text/plain": [
       "(78, 21)"
      ]
     },
     "execution_count": 50,
     "metadata": {},
     "output_type": "execute_result"
    }
   ],
   "source": [
    "df.shape"
   ]
  },
  {
   "cell_type": "code",
   "execution_count": 51,
   "metadata": {},
   "outputs": [
    {
     "data": {
      "text/plain": [
       "0    73\n",
       "1     5\n",
       "Name: pytorch, dtype: int64"
      ]
     },
     "execution_count": 51,
     "metadata": {},
     "output_type": "execute_result"
    }
   ],
   "source": [
    "df[\"pytorch\"].value_counts()"
   ]
  },
  {
   "cell_type": "code",
   "execution_count": 52,
   "metadata": {},
   "outputs": [
    {
     "data": {
      "text/plain": [
       "Index(['body', 'analysis', 'algorithms', 'jupyter', 'euler',\n",
       "       'probability_distribution', 'r', 'bayesian', 'update', 'linear_algebra',\n",
       "       'markov_chain', 'from_scratch', 'simulation', 'pytorch', 'nlp',\n",
       "       'statistics', 'monte_carlo', 'deep_learning', 'tensorflow',\n",
       "       'machine_learning', 'regression'],\n",
       "      dtype='object')"
      ]
     },
     "execution_count": 52,
     "metadata": {},
     "output_type": "execute_result"
    }
   ],
   "source": [
    "df.columns"
   ]
  },
  {
   "cell_type": "code",
   "execution_count": 53,
   "metadata": {},
   "outputs": [
    {
     "data": {
      "text/plain": [
       "algorithms                   2\n",
       "euler                        3\n",
       "markov_chain                 4\n",
       "monte_carlo                  4\n",
       "nlp                          4\n",
       "bayesian                     4\n",
       "regression                   4\n",
       "simulation                   5\n",
       "pytorch                      5\n",
       "update                       6\n",
       "jupyter                      6\n",
       "r                            6\n",
       "probability_distribution     7\n",
       "tensorflow                   7\n",
       "analysis                     7\n",
       "linear_algebra               8\n",
       "from_scratch                11\n",
       "machine_learning            13\n",
       "deep_learning               17\n",
       "statistics                  20\n",
       "dtype: int64"
      ]
     },
     "execution_count": 53,
     "metadata": {},
     "output_type": "execute_result"
    }
   ],
   "source": [
    "counts = df[df.columns[1:]].apply(sum).sort_values()\n",
    "counts"
   ]
  },
  {
   "cell_type": "code",
   "execution_count": 77,
   "metadata": {},
   "outputs": [
    {
     "data": {
      "text/plain": [
       "20"
      ]
     },
     "execution_count": 77,
     "metadata": {},
     "output_type": "execute_result"
    }
   ],
   "source": [
    "len(counts)"
   ]
  },
  {
   "cell_type": "code",
   "execution_count": 54,
   "metadata": {},
   "outputs": [],
   "source": [
    "import matplotlib.pyplot as plt\n",
    "\n",
    "%matplotlib inline\n",
    "%config InlineBackend.figure_format='retina'"
   ]
  },
  {
   "cell_type": "code",
   "execution_count": 55,
   "metadata": {},
   "outputs": [
    {
     "data": {
      "image/png": "[encoded data removed]",
      "text/plain": [
       "<Figure size 576x432 with 1 Axes>"
      ]
     },
     "metadata": {
      "image/png": {
       "height": 357,
       "width": 583
      },
      "needs_background": "light"
     },
     "output_type": "display_data"
    }
   ],
   "source": [
    "fig, ax = plt.subplots(figsize=(8, 6))\n",
    "ax.barh(counts.index, counts.values)\n",
    "plt.show()"
   ]
  },
  {
   "cell_type": "code",
   "execution_count": 56,
   "metadata": {},
   "outputs": [
    {
     "data": {
      "text/plain": [
       "title\n",
       "2020-01-09-R-tutorial                  77\n",
       "2019-11-29-test                       362\n",
       "2020-01-26-typora                     476\n",
       "2019-11-07-studying-deep-learning     477\n",
       "2020-04-01-stirling                   554\n",
       "                                     ... \n",
       "2019-12-31-logistic-regression       3023\n",
       "2019-12-21-information-entropy       3162\n",
       "2019-11-28-bayes                     3199\n",
       "2019-12-07-svd                       3657\n",
       "2020-02-05-neural-net                4082\n",
       "Name: body, Length: 78, dtype: int64"
      ]
     },
     "execution_count": 56,
     "metadata": {},
     "output_type": "execute_result"
    }
   ],
   "source": [
    "count_words = lambda x: len(x.split())\n",
    "\n",
    "word_count = df[\"body\"].apply(count_words).sort_values()\n",
    "word_count"
   ]
  },
  {
   "cell_type": "code",
   "execution_count": 61,
   "metadata": {},
   "outputs": [
    {
     "data": {
      "text/plain": [
       "array([  77,  362,  476,  477,  554,  564,  651,  659,  706,  740,  798,\n",
       "        811,  820,  825,  831,  951,  989, 1011, 1050, 1106, 1178, 1183,\n",
       "       1196, 1199, 1207, 1221, 1351, 1393, 1412, 1420, 1435, 1441, 1498,\n",
       "       1517, 1566, 1597, 1602, 1608, 1634, 1657, 1725, 1780, 1782, 1800,\n",
       "       1814, 1815, 1829, 1838, 1924, 1946, 1955, 2018, 2020, 2057, 2155,\n",
       "       2158, 2181, 2204, 2227, 2313, 2349, 2416, 2473, 2596, 2599, 2694,\n",
       "       2728, 2746, 2775, 2783, 2812, 2858, 2975, 3023, 3162, 3199, 3657,\n",
       "       4082])"
      ]
     },
     "execution_count": 61,
     "metadata": {},
     "output_type": "execute_result"
    }
   ],
   "source": [
    "word_count.values"
   ]
  },
  {
   "cell_type": "code",
   "execution_count": 74,
   "metadata": {},
   "outputs": [
    {
     "data": {
      "image/png": "[encoded data removed]",
      "text/plain": [
       "<Figure size 576x432 with 1 Axes>"
      ]
     },
     "metadata": {
      "image/png": {
       "height": 357,
       "width": 474
      },
      "needs_background": "light"
     },
     "output_type": "display_data"
    }
   ],
   "source": [
    "fig, ax = plt.subplots(figsize=(8, 6))\n",
    "ax.hist(word_count.values, bins=20)\n",
    "plt.show()"
   ]
  },
  {
   "cell_type": "code",
   "execution_count": 75,
   "metadata": {},
   "outputs": [
    {
     "data": {
      "text/plain": [
       "\"in a previous post, we took a look at fisher's information matrix. today, we will be taking a break from the r frenzy and continue our exploration of this topic, meshing together related ideas such as gradient descent, kl divergence, hessian, and more. the typical formula for batch gradient descent looks something like this: this is the familiar gradient descent algorithm that we know of. while this approach works and certainly makes sense, there are definite limitations; hence the introduction of other more efficient algorithms such as sgd, adam, and et cetera. however, these algorithms all have one thing in common: they adjust the parameter in the parameter space according to euclidean distance. in other words, gradient descent essentially looks at regions that are some euclidean distance away from the current parameter and chooses the direction of steepest descent. this is where the notion of natural gradients come into play: if our goal is to minimize the cost function, which is effectively equivalent to maximizing the likelihood, why not search within the distribution space of the likelihood function instead? after all, this makes more sense since gradient descent in parameter space is likely to be easily perturbed by the mode of parametrization, such as using precision instead of variance in a normal distribution, whereas searching in the distribution space would not be subject to this limitation. so the alternative to this approach would be to search the distribution space and find the distribution that which makes value of the cost function the smallest. this is the motivation behind the notion of a natural gradient. now you might be wondering how all this has anything to do with the fisher matrix, which we looked at in the previous post. well, it turns out there are some deep, interesting questions to be posed and connections to be uncovered. if we're going to search around the distribution space, one natural question to consider is what distance metric we will use for our search. in case of batch gradient descent, we used euclidean distance. this made sense since we were simply measuring the distance between two parameters, which are effectively scalars or vector quantities. if we want to search the distribution space, on the other hand, we would have to measure the distance between two probability distributions, one that is defined by the previous parameter and the other defined by the newly found parameter after natural gradient descent. well, we know one great candidate for this task right off the bat, and that is kl divergence. recall that kl divergence is a way of quantifying the pseudo distance between two probability distributions. the formula for kl divergence is shown below. and while we're at it, let's throw cross entropy and entropy into the picture as well, both for review and clarity's sake: for a short, simple review of these concepts, refer to this , or . in most cases, is the true distribution which we seek to model, while is some more tractable distribution at our disposal. in the classic context of ml, we want to minimize the kl divergence. in this case, however, we're simply using kl divergence as a means of measuring distance between two parameters in defined within a distribution space. as nicely stated in layman's term in this , ... instead of “i’ll follow my current gradient, subject to keeping the parameter vector within epsilon distance of the current vector,” you’d instead say “i’ll follow my current gradient, subject to keeping the distribution my model is predicting within epsilon distance of the distribution it was previously predicting” i see this as an intuitive way of nicely summarizing why we're using kl divergence in searching the distribution space, as opposed to using euclidean distance in searching the parameter space. now it's time for us to connect the dots between kl divergence and fisher's matrix. before we diving right into computations, let's think about how or why these two concepts might be related at all. one somewhat obvious link is that both quantities deal with likelihood, or to be more precise, log likelihood. due to the definition of entropy, kl divergence ends up having a log likelihood term, while fisher's matrix is the negative expected hessian of the log likelihood function, or the covariance matrix of fisher's score, which is the gradient of the log likelihood. either way, we know that likelihood is the fundamental bridge connecting the two. let's try to compute the kl divergence between and . conceptually, we can think of as the previous point of the parameter and as the newly updated parameter. in this context, the kl divergence would tell us the effect of one iteration of natural gradient descent. this time, instead of using integral, let's try to simplify a bit by expressing quantities as expectations. we see the familiar log likelihood term. given the fact that the fisher matrix is the negative expected hessian of the log likelihood, we should be itching to derive this expression twice to get a hessian out of it. let's first obtain the gradient, then get its jacobian to derive a hessian. this derivation process was heavily referenced from . let's do this one more time to get the hessian. this conclusion tells us that the curvature of kl divergence is defined by fisher's matrix. in hindsight, this is not such a surprising result given that the kl divergence literally had a term for expected log likelihood. applying the leibniz rule twice to move the derivative into the integral, we quickly end up with fisher's matrix. at this point, you might be wondering about the implications of this conclusion. it's great that kl divergence and the fisher matrix are closely related via the hessian, but what implication does it have for the gradient descent algorithm in distribution space? to answer this question, we first need to perform a quick multivariate second order taylor expansion on kl divergence. recall that the simple, generic case of multivariate taylor expansion looks as follows: this is simply a generalization of the familiar univariate taylor series approximation we saw earlier. continuing our discussion of kl divergence, let's try to expand the divergence term using taylor approximation. here, is small distance in the distribution space defined by kl divergence as the distance metric. this can be a bit obfuscating notation wise because of the use of as our variable, assuming as a fixed constant, and evaluating the gradient and the hessian at the point where since we want to approximate the value of kl divergence at the point where where . but really, all that is happening here is that in order to approximate kl divergence, we're starting at the point where , and using the slope and curvature obtained at that point to approximate the value of kl divergence at distance away. picturing the simpler univariate situation in the cartesian plane might help. the bottom line is that the kl divergence is effectively defined by the fisher matrix. the implication of this is that now, the gradient descent algorithm is subject to the constraint where is some constant. now, the update rule would be to solve for the argument minima operation, we will resort to the classic method for optimization: lagrangians. in this case, the lagrangian would be this immediately follows from using the constraint condition. to make progress, let's use taylor approximation again, both on the term for the loss function and the kl divergence. the good news is that we have already derived the expression for the latter. noting the fact that there are several constants in this expression, we can simplify this into to minimize this expression, we set its gradient equal to zero. note that we are deriving with respect to . therefore, we are finally done with our derivation. this equation tells us that the direction of steepest descent is defined by the inverse of the fisher matrix multiplied by the gradient of the loss function, up to some constant scaling factor. this is different from the vanilla batch gradient descent we are familiar with, which was simply defined as although the difference seems very minor after all, all that was changed was the addition of fisher's matrix yet the underlying concept, as we have seen in the derivation, is entirely different. this was definitely a math heavy post. even after having written this entire post, i'm still not certain if i have understood the details and subtleties involved in the derivation. and even the details that i understand now will become confusing and ambiguous later when i return back to it. hopefully i can retain most of what i have learned from this post. before i close this post, i must give credit to , whose blog post was basically the basis of this entire writing. i did look at a few stack overflow threads, but the vast majority of what i have written are either distillations or adaptations from their blog. it's a great resource for understanding the mathematics behind deep learning. i hope you enjoyed reading this blog. see you in the next one!\""
      ]
     },
     "execution_count": 75,
     "metadata": {},
     "output_type": "execute_result"
    }
   ],
   "source": [
    "df[\"body\"][0]"
   ]
  },
  {
   "cell_type": "code",
   "execution_count": 76,
   "metadata": {},
   "outputs": [
    {
     "data": {
      "text/plain": [
       "\"lately, i have been on a spree after unlocking a two month free unlimited trial through microsoft's . if you haven't already, make sure to check it out, as it offers a plethora of tools, journal subscriptions, and software packages for developers. anyhow, one of the courses i decided to check out on datacamp was titled introduction to deep learning with python, which covered basic concepts in deep learning such as forward and backward propagation. the latter half of the tutorial was devoted to the introduction of the and the implementation of neural networks. i created this notebook immediately after finishing the tutorial for memory retention and self review purposes. first, we begin by importing the library as well as other affiliated functions in the module. note that keras uses tensorflow as backend by default. the warning in the code block below appears because this notebook was written on , which informs users that the platform will be switching over to tensorflow 2 in the future. as you might be able to guess from one of the imported modules, the objective of the neural network will be to classify hand written digits. in doing so, we will be dealing with a classic in machine learning literature known as the the mnist data set, which contains images of hand written digits from 0 to 9, each hand labeled by researchers. the variable denotes the total number of class labels available in the classification task, which is 10. specifies the number of iterations the gradient descent algorithm will run for. let's begin by loading the data from . now we have to slightly modify the loaded data so that its dimensions and values are made suitable to be fed into a neural network. changing the dimensionality of data can be achieved through the function, which takes in the number of rows and columns as its argument. we convert the numbes into type , then normalize it so that its values are all between 0 and 1. although we won't get into too much detail as to why normalization is important, an elementary intuition we might develop is that normalization effectively squishes all values into the same bound, making data much more processable. we also implement one hot encoding on through the function. let's quickly check if the necessary adjustments were made by looking up the dimensions of and , respectively. looks like the data has been reshaped successfully. now, it's finally time to get into the nuts and bolts of a neural network. the simplest neural network is the model, which means that every neuron in one layer is connected to all other neurons in the previous layer. building a simple neural network is extremely easy in a high level api like keras. the model below has 784 input nodes. the input layer is then connected to a hidden layer with 512 neurons, which is then connected to a second hidden layer with also 512 neurons. note that the hidden layer uses the function as its activation function. the dropout layers ensure that our model does not overfit to the data. the last output layer has 10 neurons, each corresponding to digits from 0 to 9. the activation fuction of this last layer is the softmax function, which allows us to interpret the final results as a categorical distribution. let's double check that the layers have been formed correctly as per our intended design. model: sequential_3 dense_6 401920 dropout_5 0 dense_7 262656 dropout_6 0 dense_8 5130 total params: 669,706 trainable params: 669,706 non trainable params: 0 everything looks good, which means we are now ready to compile and train our model. before we do that, however, it is always a good idea to use the module to ensure that gradient descent stops when no substantial weight adjustments are being made to our model. in other words, when the model successfully finds the local minimum , the will kick in and stop gradient descent from proceeding with further epochs. we are now ready to go! let's compile the model by making some configurations, namely the , , and . simply put, an specifies which flavor of the we want to choose. the simplest version is known as , or the stochastic gradient descent. can be considered an improved version of the stochastic gradient descent in that its learning rate changes depending on the slope of the loss function, defined here as cross entropy. if you recall, is basically a measurement of the pseudo distance between two distributions, i.e. how different two distributions are. but because cross entropy is often not easy to intuitively wrap our minds around, let's pass the metric to the function, as shown below. it's time to train the neural network with the training data, and , over a specified number of epochs. as promised, we will use the to stop graident descent from making unnecessary computations down the road. we also specify that and are components of the validation set. train on 60000 samples, validate on 10000 samples epoch 1/15 epoch 2/15 epoch 3/15 epoch 4/15 epoch 5/15 epoch 6/15 epoch 7/15 epoch 8/15 keras shows us how much our neural network improves over each epoch. this is convenient, but can we do better? the answer is a sure yes. let's quickly plot a graph to see how model accuracy improves over time, while cross entropy loss decreases with more epochs. as the last step, we might want to save our trained model. this can be achieved with a single line of code. we can load pre saved models as well. that's it for today! obviously there are a lot more we can do with , such as building deeper neural networks or non sequential models such as cnn or gan, but these are topics we might look at a later date when i grow more proficient with the keras api and deep learning in general. for now, consider this to be a gentle introduction to neural networks with keras. thanks for reading! catch you up in the next one.\""
      ]
     },
     "execution_count": 76,
     "metadata": {},
     "output_type": "execute_result"
    }
   ],
   "source": [
    "df[\"body\"][1]"
   ]
  },
  {
   "cell_type": "code",
   "execution_count": null,
   "metadata": {},
   "outputs": [],
   "source": []
  }
 ],
 "metadata": {
  "kernelspec": {
   "display_name": "PyTorch",
   "language": "python",
   "name": "pytorch"
  },
  "language_info": {
   "codemirror_mode": {
    "name": "ipython",
    "version": 3
   },
   "file_extension": ".py",
   "mimetype": "text/x-python",
   "name": "python",
   "nbconvert_exporter": "python",
   "pygments_lexer": "ipython3",
   "version": "3.7.9"
  }
 },
 "nbformat": 4,
 "nbformat_minor": 4
}
